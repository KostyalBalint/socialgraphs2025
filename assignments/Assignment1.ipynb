{
 "cells": [
  {
   "cell_type": "markdown",
   "metadata": {},
   "source": [
    "# Formalia:\n",
    "\n",
    "Please read the [assignment overview page](https://github.com/suneman/socialgraphs2025/wiki/Assignments) carefully before proceeding. This page contains information about formatting (including formats etc), group sizes, and many other aspects of handing in the assignment. \n",
    "\n",
    "_If you fail to follow these simple instructions, it will negatively impact your grade!_\n",
    "\n",
    "**Due date and time**: The assignment is due on Tuesday September 30th, 2025 at 23:55. Hand in your IPython notebook file (with extension `.ipynb`) via DTU Learn"
   ]
  },
  {
   "cell_type": "markdown",
   "metadata": {},
   "source": [
    "# Assignment 1.1: Exploring WS and BA models\n",
    "\n",
    "This first part draws on the Watts-Stogatz and Barabasi-Albert models from Week 3. You should provide solutions to the exercises with the following titles from **Part 1** \n",
    "\n",
    "* *Did you really read the text? Answer the following questions (no calculations needed) in your IPython notebook*\n",
    "\n",
    "* *WS edition*\n",
    "\n",
    "And from **Part 2**\n",
    "\n",
    "* *BA Edition*.\n",
    "  * **Note**: The second part of this exercise (after the questions to the text) first has you build a BA network step-by-step, but doesn't ask any questions. For that part, I would simply like you to write well-documented code that shows how you build the network. \n"
   ]
  },
  {
   "metadata": {},
   "cell_type": "markdown",
   "source": ""
  },
  {
   "metadata": {},
   "cell_type": "markdown",
   "source": [
    "> *Exercises*: Did you really read the text? Answer the following questions (no calculations needed) in your IPython notebook.\n",
    ">\n",
    "> * What's the problem with random networks as a model for real-world networks according to the argument in section 3.5 (near the end)?\n",
    "> * List the four regimes that characterize random networks as a function of $\\langle k \\rangle$.\n",
    "> * According to the book, why is it a problem for random networks (in terms of being a model for real-world networks) that the degree-dependent clustering $C(k)$ decreases as a function of $k$ in real-world networks?"
   ]
  },
  {
   "metadata": {},
   "cell_type": "markdown",
   "source": [
    "Random networks' degree distribution follow the Poisson distribution. However, this is not the case for real networks. Also, random networks local clustering coefficient is independent of the node's degree. However, measuring the clustering coefficient of\n",
    "Internet or protein interactions shows that C(k) decreases with k and dependent on N. Moreover, in theory if <k> > lnN, then the network should be broken into isolated clusters, which is true for the Actor network, but for most real life networks it is false (e.g. the Internet, power grid, yeast protein interaction).\n",
    "\n",
    "Subsciritcal regime, where 0 < <k> < 1 and the network is fragmented into small clusters, which sizes follows the exponential distribution.\n",
    " Critical point, where <k> = 1. In this there are a lot of small clusters (which are mainly trees), and a giant component (which can have loops in it).\n",
    " superscritical regime, where <k> > 1. In this there can be a few small cluster (mainly trees), and a giant component with loops in it.\n",
    " Connected regime, where <k> > lnN and the giant component swallows all the small clusters.\n",
    "\n"
   ]
  },
  {
   "metadata": {},
   "cell_type": "markdown",
   "source": [
    "> *Exercises*: WS edition.\n",
    ">\n",
    "> * First, let's use `networkx` to play around with WS graphs. Use `nx.watts_strogatz_graph` to generate 3 graphs with 500 nodes each, average degree = 4, and rewiring probablity $p = 0, 0.1,$ and  $1$. Calculate the average shortest path length $\\langle d \\rangle$ for each one.\n",
    "> * Describe what happens to the network when $p = 1$.\n",
    "> * Generate a lot of networks with different values of $p$. You will notice that paths are short when $p$ is close to one and they are long when $p = 0$. What's the value of $p$ for which the average shortest path length gets close to the short paths we find in a fully randomized network.\n",
    "> * Let's investigate this behavior in detail. Generate 50 networks with $N = 500$, $\\langle k \\rangle = 4$, for each of $p = \\{0, 0.01, 0.03, 0.05, 0.1, 0.2\\}$. Calculate the average of $\\langle d \\rangle$ as well as the standard deviation over the 50 networks, to create a plot that shows how the path length decreases very quickly with only a little fraction of re-wiring. Use the standard deviation to add [errorbars](https://matplotlib.org/stable/api/_as_gen/matplotlib.pyplot.errorbar.html) to the plot. My version of the plot is below (since a picture's worth 1000 words).\n",
    "> * Imagine that you put this plot in an assignment. Write a figure caption that explains to the reader what the plot shows (which variables, etc) and what's interesting about it."
   ]
  },
  {
   "metadata": {
    "ExecuteTime": {
     "end_time": "2025-09-24T20:52:47.787136Z",
     "start_time": "2025-09-24T20:52:47.522839Z"
    }
   },
   "cell_type": "code",
   "source": [
    "import networkx as nx\n",
    "## Generating 3 graphs with N=500, <k>=4 and p= 0, 0.1 and 1, using`nx.watts_strogatz_graph`. Calculating the average shortest path length <d> for each one.\n",
    "\n",
    "probabilities = [0, 0.1, 1]\n",
    "networks = []\n",
    "\n",
    "print(\"Average shortest path lengths for the different probabilities:\")\n",
    "for i in range (len(probabilities)):\n",
    "    g = nx.watts_strogatz_graph(500, 4, probabilities[i])\n",
    "    networks.append(g)\n",
    "    print(nx.average_shortest_path_length(g))"
   ],
   "outputs": [
    {
     "name": "stdout",
     "output_type": "stream",
     "text": [
      "Average shortest path lengths for the different probabilities:\n",
      "62.875751503006015\n",
      "7.675575150300602\n",
      "4.747190380761523\n"
     ]
    }
   ],
   "execution_count": 2
  },
  {
   "metadata": {},
   "cell_type": "markdown",
   "source": [
    "Describe what happens to the network when p = 1:\n",
    "As"
   ]
  },
  {
   "metadata": {
    "ExecuteTime": {
     "end_time": "2025-09-24T21:00:40.302839Z",
     "start_time": "2025-09-24T21:00:39.669748Z"
    }
   },
   "cell_type": "code",
   "source": [
    "import random\n",
    "import matplotlib.pyplot as plt\n",
    "##Generating a lot of networks with different values of p.\n",
    "\n",
    "random_probabilities = [random.random() for _ in range(10)]\n",
    "random_probabilities.sort()\n",
    "average_shortest_path_lengths = []\n",
    "for p in random_probabilities:\n",
    "    g = nx.watts_strogatz_graph(500, 4, p)\n",
    "    average_shortest_path_lengths.append(nx.average_shortest_path_length(g))\n",
    "\n",
    "plt.plot(random_probabilities, average_shortest_path_lengths, marker='x')   # line plot with points\n",
    "plt.xlabel(\"probabilities\")\n",
    "plt.ylabel(\"Average shortest path lengths\")\n",
    "plt.title(\"Plot of two arrays\")\n",
    "plt.show()"
   ],
   "outputs": [
    {
     "data": {
      "text/plain": [
       "<Figure size 640x480 with 1 Axes>"
      ],
      "image/png": "[encoded data removed]"
     },
     "metadata": {},
     "output_type": "display_data"
    }
   ],
   "execution_count": 8
  },
  {
   "metadata": {},
   "cell_type": "markdown",
   "source": "As we can see the average shortest path is shorter and shorter with probabilities which are closer to 1.\n"
  },
  {
   "metadata": {
    "ExecuteTime": {
     "end_time": "2025-09-24T21:02:11.902076Z",
     "start_time": "2025-09-24T21:01:56.624770Z"
    }
   },
   "cell_type": "code",
   "source": [
    "import numpy as np\n",
    "\n",
    "N = 500\n",
    "k = 4\n",
    "p =[0, 0.01, 0.03, 0.05, 0.1, 0.2]\n",
    "dict = {}\n",
    "\n",
    "for i in p:\n",
    "    average_shortest_path_lengths_with_d = []\n",
    "    for j in range(50):\n",
    "        g = nx.watts_strogatz_graph(N, k, i)\n",
    "        average_shortest_path_lengths_with_d.append(nx.average_shortest_path_length(g))\n",
    "    dict[i] = np.mean(average_shortest_path_lengths_with_d)"
   ],
   "outputs": [],
   "execution_count": 9
  },
  {
   "cell_type": "markdown",
   "metadata": {},
   "source": [
    "# Assignment 1.2: Stats and visualization of the Rock Music Network\n",
    "\n",
    "This second part requires you to have built the network of Rock Musicians as described in the exercises for Week 4. You should complete the following exercise from **Part 2**.\n",
    "\n",
    "* *Explain your process in words*\n",
    "\n",
    "* *Simple network statistics and analysis*.\n",
    "\n",
    "  * **Note related to this and the following exercise**. It is nice to have the dataset underlying the statistics and visualization available when we grade. Therefore, I recommend that you create a small *network dataset*, which is simply your graph stored in some format that you like (since it's only a few hundred nodes and a few thousand edges, it won't take up a lot of space). You can then place that network one of your group members' GitHub account (or some other server that's available online) and have your Jupyter Notebook fetch that dataset when it runs. (It's OK to use an LLM for help with setting this up, if it seems difficult). \n",
    "\n",
    "And the following exercise from **Part 3**\n",
    "\n",
    "* *Let's build a simple visualization of the network*\n",
    "\n",
    "And that's it! You're all set."
   ]
  },
  {
   "cell_type": "code",
   "execution_count": null,
   "metadata": {},
   "outputs": [],
   "source": []
  }
 ],
 "metadata": {
  "anaconda-cloud": {},
  "kernelspec": {
   "display_name": "Python 3 (ipykernel)",
   "language": "python",
   "name": "python3"
  },
  "language_info": {
   "codemirror_mode": {
    "name": "ipython",
    "version": 3
   },
   "file_extension": ".py",
   "mimetype": "text/x-python",
   "name": "python",
   "nbconvert_exporter": "python",
   "pygments_lexer": "ipython3",
   "version": "3.13.5"
  }
 },
 "nbformat": 4,
 "nbformat_minor": 4
}
