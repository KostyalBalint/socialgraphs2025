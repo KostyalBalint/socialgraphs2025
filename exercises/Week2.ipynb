{
 "cells": [
  {
   "cell_type": "markdown",
   "id": "6b427e6c",
   "metadata": {},
   "source": [
    "Section 2.5 states that real networks are sparse. Can you think of a real network where each node has many connections? Is that network still sparse? If yes, can you explain why?"
   ]
  },
  {
   "cell_type": "markdown",
   "id": "678eb625",
   "metadata": {},
   "source": [
    "Yes, for example social media platforms. There are around 5.4 billion social media users around the world, but the network is still sparse, because an average user has only a few hundred or thousan followers or friends compared to the total pissoble connections."
   ]
  }
 ],
 "metadata": {
  "language_info": {
   "name": "python"
  }
 },
 "nbformat": 4,
 "nbformat_minor": 5
}
