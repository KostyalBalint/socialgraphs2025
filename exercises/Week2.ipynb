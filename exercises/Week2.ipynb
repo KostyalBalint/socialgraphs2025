{
 "cells": [
  {
   "cell_type": "markdown",
   "id": "1386c27a",
   "metadata": {},
   "source": [
    "Part 1: Basic mathematical description of networks"
   ]
  },
  {
   "cell_type": "markdown",
   "id": "68499202",
   "metadata": {},
   "source": [
    "Section 2.5 states that real networks are sparse. Can you think of a real network where each node has many connections? Is that network still sparse? If yes, can you explain why?"
   ]
  },
  {
   "cell_type": "markdown",
   "id": "c5c4ad93",
   "metadata": {},
   "source": [
    "Yes, for example social media platforms. There are around 5.4 billion social media users around the world, but the network is still sparse, because an average user has only a few hundred or thousan followers or friends compared to the total pissoble connections."
   ]
  },
  {
   "cell_type": "markdown",
   "id": "51c5825d",
   "metadata": {},
   "source": [
    "Part 2: Exercises using the NetworkX library"
   ]
  },
  {
   "cell_type": "markdown",
   "id": "dca021a8",
   "metadata": {},
   "source": [
    "Write the solution exercise 2.1 (the 'Königsberg Problem') from NS in your notebook."
   ]
  },
  {
   "cell_type": "code",
   "execution_count": null,
   "id": "70636c53",
   "metadata": {},
   "outputs": [],
   "source": [
    "import networkx as nx\n",
    "import matplotlib.pyplot as plt\n",
    "\n",
    "G = nx.MultiGraph()\n",
    "G.add_nodes_from([1,2,3,4])\n",
    "\n",
    "\n",
    "\n",
    "edge_list = [(1,2),(1,2),(2,3),(2,3), (1,4), (2,4), (3,4) ]\n",
    "\n",
    "G.add_edges_from(edge_list)\n",
    "pos = nx.spring_layout(G, seed=5)\n",
    "fig, ax = plt.subplots()\n",
    "nx.draw_networkx_nodes(G, pos, ax=ax)\n",
    "nx.draw_networkx_labels(G, pos, ax=ax)\n",
    "fig.savefig(\"1.png\", bbox_inches='tight', pad_inches=0)\n",
    "\n",
    "\n",
    "rads = [0.3, -0.3, 0]  # different curvature for each edge\n",
    "for i, (u, v, key) in enumerate(G.edges(keys=True)):\n",
    "    rad = rads[i % len(rads)]\n",
    "    nx.draw_networkx_edges(G, pos, edgelist=[(u, v)], connectionstyle=f\"arc3,rad={rad}\", arrows=True)\n",
    "\n",
    "print(G.number_of_nodes())\n",
    "print(G.number_of_edges())\n",
    "plt.show()\n",
    "\n",
    "if nx.has_eulerian_path(G, source=None):\n",
    "    print(\"This graph has an Eulerian path.\")\n",
    "else: \n",
    "    print(\"This graph doesn't have an Eulerian path.\")"
   ]
  },
  {
   "cell_type": "markdown",
   "id": "140b122e",
   "metadata": {},
   "source": [
    "Solve exercise 2.3 ('Graph representation') from NS using NetworkX in your notebook"
   ]
  },
  {
   "cell_type": "markdown",
   "id": "b4cd70d4",
   "metadata": {},
   "source": [
    "Undirected graph of 6 nodes and 7 links."
   ]
  },
  {
   "cell_type": "code",
   "execution_count": null,
   "id": "72f7108f",
   "metadata": {},
   "outputs": [],
   "source": [
    "import numpy as np\n",
    "import networkx as nx\n",
    "import matplotlib.pyplot as plt\n",
    "\n",
    "\n",
    "matrix = np.array([ [0,1,1,1,0,1]\n",
    "                   ,[1,0,1,1,0,0]\n",
    "                   ,[1,1,0,0,0,1]\n",
    "                   ,[1,1,0,0,0,0]\n",
    "                   ,[0,0,0,0,0,0]\n",
    "                   ,[1,0,1,0,0,0]])\n",
    "\n",
    "custom_labels = {0: \"1\", 1: \"2\", 2: \"3\", 3: \"4\", 4: \"5\", 5: \"6\"}\n",
    "\n",
    "G = nx.from_numpy_array(matrix)\n",
    "\n",
    "nx.draw(G, with_labels=True, labels = custom_labels)\n",
    "plt.show()"
   ]
  },
  {
   "cell_type": "markdown",
   "id": "219bd30e",
   "metadata": {},
   "source": [
    "Directed graph of 6 nodes and 8 directed links."
   ]
  },
  {
   "cell_type": "code",
   "execution_count": null,
   "id": "f52c8943",
   "metadata": {},
   "outputs": [],
   "source": [
    "import numpy as np\n",
    "import networkx as nx\n",
    "import matplotlib.pyplot as plt\n",
    "\n",
    "\n",
    "matrix = np.array([ [0,1,0,0,0,0]\n",
    "                   ,[0,0,1,1,0,0]\n",
    "                   ,[1,1,0,0,0,0]\n",
    "                   ,[1,0,0,0,0,0]\n",
    "                   ,[0,0,0,0,0,0]\n",
    "                   ,[1,0,1,0,0,0]])\n",
    "\n",
    "custom_labels = {0: \"1\", 1: \"2\", 2: \"3\", 3: \"4\", 4: \"5\", 5: \"6\"}\n",
    "\n",
    "G = nx.from_numpy_array(matrix, create_using=nx.DiGraph)\n",
    "\n",
    "nx.draw(G, with_labels=True, labels = custom_labels, connectionstyle='arc3,rad=0.2')\n",
    "plt.show()"
   ]
  },
  {
   "cell_type": "markdown",
   "id": "4dff9cf4",
   "metadata": {},
   "source": [
    "The corresponding adjacency matrices.\n",
    "\n",
    "undirected:\n",
    "([[0,1,1,1,0,1]\n",
    ",[1,0,1,1,0,0]\n",
    ",[1,1,0,0,0,1]\n",
    ",[1,1,0,0,0,0]\n",
    ",[0,0,0,0,0,0]\n",
    ",[1,0,1,0,0,0]])\n",
    "\n",
    "directed:\n",
    "\n",
    "([ [0,1,0,0,0,0]\n",
    ",[0,0,1,1,0,0]\n",
    ",[1,1,0,0,0,0]\n",
    ",[1,0,0,0,0,0]\n",
    ",[0,0,0,0,0,0]\n",
    ",[1,0,1,0,0,0]])"
   ]
  },
  {
   "cell_type": "markdown",
   "id": "05c3e082",
   "metadata": {},
   "source": [
    "The corresponding link lists.\n",
    "\n",
    "undirected:\n",
    "\n",
    "[0,1]\n",
    "[0,2]\n",
    "[0,3]\n",
    "[0,5]\n",
    "[1,2]\n",
    "[1,3]\n",
    "[2,5]\n",
    "\n",
    "directed:\n",
    "\n",
    "[0,1]\n",
    "[1,2]\n",
    "[1,3]\n",
    "[2,0]\n",
    "[2,1]\n",
    "[3,0]\n",
    "[5,0]\n",
    "[5,2]\n"
   ]
  },
  {
   "cell_type": "markdown",
   "id": "6ab1e55e",
   "metadata": {},
   "source": [
    "Determine the average clustering coefficient of the network shown in Image 2.20a\n",
    "\n",
    "edge 1 = {2, 3, 4, 6}, k1 = 4, edges = 3, C1 = 3/6 =0,5 \n",
    "edge 2 = {1, 3, 4} k2 = 3, edges = 2, C2 = 2/3 = 0,67\n",
    "edge 3 = {1, 2, 6} k3 = 3, edges = 2, C3 = 2/3 = 0,67 \n",
    "edge 4 = {1, 2} k4 = 2, edges = 1, C4 = 1\n",
    "edge 5 = {} C5= 0\n",
    "edge 6 = {1,3} k6 = 2, edges = 1, C6= 1\n",
    "\n",
    "average clustering coefficiency =\n",
    "(0,5+0,67+0,67+1+0+1)/6 = 0,639"
   ]
  },
  {
   "cell_type": "code",
   "execution_count": null,
   "id": "bd92dfaa",
   "metadata": {},
   "outputs": [],
   "source": [
    "import numpy as np\n",
    "import networkx as nx\n",
    "import matplotlib.pyplot as plt\n",
    "\n",
    "\n",
    "matrix = np.array([ [0,1,1,1,0,1]\n",
    "                   ,[1,0,1,1,0,0]\n",
    "                   ,[1,1,0,0,0,1]\n",
    "                   ,[1,1,0,0,0,0]\n",
    "                   ,[0,0,0,0,0,0]\n",
    "                   ,[1,0,1,0,0,0]])\n",
    "\n",
    "custom_labels = {0: \"1\", 1: \"2\", 2: \"3\", 3: \"4\", 4: \"5\", 5: \"6\"}\n",
    "\n",
    "G = nx.from_numpy_array(matrix)\n",
    "\n",
    "print(nx.average_clustering(G))"
   ]
  },
  {
   "cell_type": "markdown",
   "id": "e39ca4e1",
   "metadata": {},
   "source": [
    "print result = 0.6388888888888888"
   ]
  },
  {
   "cell_type": "markdown",
   "id": "7f0d92d3",
   "metadata": {},
   "source": [
    "If you switch the labels of nodes 5 and 6 in Image 2.20a, how does that move change the adjacency matrix? And the link list?\n",
    "\n",
    "([[0,1,1,1,1,0]\n",
    ",[1,0,1,1,0,0]\n",
    ",[1,1,0,0,1,0]\n",
    ",[1,1,0,0,0,0]\n",
    ",[1,0,1,0,0,0]\n",
    ",[0,0,0,0,0,0]])\n",
    "\n",
    "\n",
    "\n",
    "linked list\n",
    "\n",
    "\n",
    "[0,1]\n",
    "[0,2]\n",
    "[0,3]\n",
    "[0,4]\n",
    "[1,2]\n",
    "[1,3]\n",
    "[2,4]\n",
    "\n"
   ]
  },
  {
   "cell_type": "markdown",
   "id": "66cdfdc1",
   "metadata": {},
   "source": [
    "What kind of information can you not infer from the link list representation of the network that you can infer from the adjacency matrix?\n",
    "\n",
    "An adjacency matrix quickly shows which nodes are connected and which aren’t (0 means no edge). It can also show multiple edges: in the N×N grid you can use numbers bigger than 1—2 for two edges, 3 for three, and so on\n",
    "\n",
    "undirected = 7\n",
    "directed = 0"
   ]
  },
  {
   "cell_type": "code",
   "execution_count": null,
   "id": "f072e324",
   "metadata": {},
   "outputs": [],
   "source": [
    "import numpy as np\n",
    "import networkx as nx\n",
    "import matplotlib.pyplot as plt\n",
    "\n",
    "\n",
    "matrix = np.array([ [0,1,0,0,0,0]\n",
    "                   ,[0,0,1,1,0,0]\n",
    "                   ,[1,1,0,0,0,0]\n",
    "                   ,[1,0,0,0,0,0]\n",
    "                   ,[0,0,0,0,0,0]\n",
    "                   ,[1,0,1,0,0,0]])\n",
    "\n",
    "custom_labels = {0: \"1\", 1: \"2\", 2: \"3\", 3: \"4\", 4: \"5\", 5: \"6\"}\n",
    "\n",
    "G = nx.from_numpy_array(matrix, create_using=nx.DiGraph)\n",
    "\n",
    "\n",
    "walks = nx.number_of_walks(G, 3)\n",
    "print(\"walks\",walks)\n",
    "print(walks[0].get(2))"
   ]
  },
  {
   "cell_type": "code",
   "execution_count": null,
   "id": "0e573eed",
   "metadata": {},
   "outputs": [],
   "source": [
    "import numpy as np\n",
    "import networkx as nx\n",
    "import matplotlib.pyplot as plt\n",
    "\n",
    "\n",
    "matrix = np.array([ [0,1,0,0,0,0]\n",
    "                   ,[0,0,1,1,0,0]\n",
    "                   ,[1,1,0,0,0,0]\n",
    "                   ,[1,0,0,0,0,0]\n",
    "                   ,[0,0,0,0,0,0]\n",
    "                   ,[1,0,1,0,0,0]])\n",
    "\n",
    "custom_labels = {0: \"1\", 1: \"2\", 2: \"3\", 3: \"4\", 4: \"5\", 5: \"6\"}\n",
    "\n",
    "G = nx.from_numpy_array(matrix, create_using=nx.DiGraph)\n",
    "\n",
    "\n",
    "walks = nx.number_of_walks(G, 3)\n",
    "print(\"walks\",walks)\n",
    "print(walks[0].get(2))"
   ]
  },
  {
   "cell_type": "markdown",
   "id": "7fb9ed7f",
   "metadata": {},
   "source": [
    "Solve exercise 2.5 ('Bipartite Networks') from NS using NetworkX in your notebook. "
   ]
  },
  {
   "cell_type": "markdown",
   "id": "6695c484",
   "metadata": {},
   "source": [
    "Construct its adjacency matrix. Why is it a block-diagonal matrix?"
   ]
  },
  {
   "cell_type": "markdown",
   "id": "97a3678b",
   "metadata": {},
   "source": [
    "[0,0,0,0,0,0,1,0,0,0,0]\n",
    "[0,0,0,0,0,0,0,0,1,0,0]\n",
    "[0,0,0,0,0,0,1,1,1,0,0]\n",
    "[0,0,0,0,0,0,0,0,1,1,0]\n",
    "[0,0,0,0,0,0,0,0,1,0,1]\n",
    "[0,0,0,0,0,0,0,0,0,0,1]\n",
    "[1,0,0,0,0,0,0,0,0,0,0]\n",
    "[0,0,1,0,0,0,0,0,0,0,0]\n",
    "[0,1,1,1,1,0,0,0,0,0,0]\n",
    "[0,0,0,1,0,0,0,0,0,0,0]\n",
    "[0,0,0,0,0,0,0,0,0,0,1]\n",
    "\n",
    "\n",
    "It is block-diagonal, because there are two node sets, and there are no within-set edges. "
   ]
  },
  {
   "cell_type": "markdown",
   "id": "b5d78177",
   "metadata": {},
   "source": [
    "Construct the adjacency matrix of its two projections, on the purple and on the green nodes, respectively."
   ]
  },
  {
   "cell_type": "markdown",
   "id": "ad5f1937",
   "metadata": {},
   "source": [
    " \n",
    "[1,0,1,0,0,0]\n",
    "[0,0,1,0,0,0]\n",
    "[0,1,1,1,1,0]\n",
    "[0,0,0,1,0,0]\n",
    "[0,0,0,0,1,1]\n",
    "\n",
    "\n",
    "[1,0,0,0,0]\n",
    "[0,0,1,0,0]\n",
    "[1,1,1,0,0]\n",
    "[0,0,1,1,0]\n",
    "[0,0,1,0,1]\n",
    "[0,0,0,0,1]\n",
    "\n",
    "\n",
    "\n"
   ]
  },
  {
   "cell_type": "markdown",
   "id": "c13d4b9f",
   "metadata": {},
   "source": []
  },
  {
   "cell_type": "markdown",
   "id": "815d76fc",
   "metadata": {},
   "source": [
    "Calculate the average degree of the purple nodes and the average degree of the green nodes in the bipartite network."
   ]
  },
  {
   "cell_type": "code",
   "execution_count": null,
   "id": "4a95c072",
   "metadata": {},
   "outputs": [],
   "source": [
    "import numpy as np\n",
    "import networkx as nx\n",
    "import matplotlib.pyplot as plt\n",
    "\n",
    "Green = np.array([  [1,0,1,0,0,0]\n",
    "                    ,[0,0,1,0,0,0]\n",
    "                    ,[0,1,1,1,1,0]\n",
    "                    ,[0,0,0,1,0,0]\n",
    "                    ,[0,0,0,0,1,1]])\n",
    "\n",
    "Purple = Green.T @Green\n",
    "np.fill_diagonal(Purple, 0)\n",
    "P_bin = (Purple > 0).astype(int)\n",
    "\n",
    "G_purple = nx.from_numpy_array(P_bin)\n",
    "print(\"Purple {C} (unweighted): \", nx.average_clustering(G_purple))\n",
    "\n",
    "G_purple_w = nx.from_numpy_array(P_bin)\n",
    "print(\"Purple {C} (weighted): \", nx.average_clustering(G_purple_w, weight='weight'))\n",
    "\n",
    "\n",
    "Gm = Green @ Green.T\n",
    "np.fill_diagonal(Gm, 0)\n",
    "Gm_bin = (Gm > 0).astype(int)\n",
    "\n",
    "G_green = nx.from_numpy_array(Gm_bin)\n",
    "print(\"Green ⟨C⟩ (unweighted):\", nx.average_clustering(G_green))\n",
    "\n",
    "G_green_w = nx.from_numpy_array(Gm)\n",
    "print(\"Green ⟨C⟩ (weighted):\", nx.average_clustering(G_green_w, weight='weight'))\n",
    "\n",
    "\n",
    "\n"
   ]
  },
  {
   "cell_type": "markdown",
   "id": "bc7dba9b",
   "metadata": {},
   "source": [
    "Calculate the average degree in each of the two network projections. Is it surprising that the values are different from those obtained in point (c)?"
   ]
  },
  {
   "cell_type": "code",
   "execution_count": null,
   "id": "fb4ea441",
   "metadata": {},
   "outputs": [],
   "source": [
    "import numpy as np\n",
    "import networkx as nx\n",
    "import matplotlib.pyplot as plt\n",
    "\n",
    "\n",
    "Green = np.array([  [1,0,1,0,0,0]\n",
    "                    ,[0,0,1,0,0,0]\n",
    "                    ,[0,1,1,1,1,0]\n",
    "                    ,[0,0,0,1,0,0]\n",
    "                    ,[0,0,0,0,1,1]])\n",
    "\n",
    "Purple = Green.T @Green\n",
    "np.fill_diagonal(Purple, 0)\n",
    "P_bin = (Purple > 0).astype(int)\n",
    "\n",
    "G_purple = nx.from_numpy_array(P_bin)\n",
    "G_purple_w = nx.from_numpy_array(P_bin)\n",
    "\n",
    "Gm = Green @ Green.T\n",
    "np.fill_diagonal(Gm, 0)\n",
    "Gm_bin = (Gm > 0).astype(int)\n",
    "\n",
    "G_green = nx.from_numpy_array(Gm_bin)\n",
    "\n",
    "G_green_w = nx.from_numpy_array(Gm)\n",
    "\n",
    "print(\"Green avg degree: \", sum(d for _, d in G_green.degree()) / G_green.number_of_nodes())\n",
    "print(\"Purple avg degree: \",sum(d for _, d in G_purple.degree()) / G_purple.number_of_nodes())"
   ]
  },
  {
   "cell_type": "markdown",
   "id": "bb1aff48",
   "metadata": {},
   "source": [
    "Part 3: Plotting degree distributions"
   ]
  },
  {
   "cell_type": "markdown",
   "id": "9e7ccb4d",
   "metadata": {},
   "source": [
    "Let's do a gentle start and use the random library generate 5000 data points from a Gaussian distribution"
   ]
  },
  {
   "cell_type": "code",
   "execution_count": null,
   "id": "831957c3",
   "metadata": {},
   "outputs": [],
   "source": [
    "import numpy as np\n",
    "import networkx as nx\n",
    "import matplotlib.pyplot as plt\n",
    "import random\n",
    "\n",
    "\n",
    "size= 5000\n",
    "mu = 2\n",
    "sigma = 0.125\n",
    "\n",
    "b = np.random.normal(mu, sigma, size)\n",
    "\n",
    "\n",
    "nums = [random.gauss(mu, sigma) for _ in range(size)]\n",
    "\n",
    "plt.plot(nums)\n",
    "plt.show()"
   ]
  },
  {
   "cell_type": "markdown",
   "id": "1780fa9f",
   "metadata": {},
   "source": [
    "Now, let's use numpy.histogram to bin those number into 10 bins. What does the numpy.histogram function return? Do the two arrays have the same length?"
   ]
  },
  {
   "cell_type": "code",
   "execution_count": null,
   "id": "723b2508",
   "metadata": {},
   "outputs": [],
   "source": [
    "import numpy as np\n",
    "import networkx as nx\n",
    "import matplotlib.pyplot as plt\n",
    "import random as rd\n",
    "\n",
    "\n",
    "size= 5000\n",
    "mu = 2\n",
    "sigma = 0.125\n",
    "\n",
    "b = np.random.normal(mu, sigma, size)\n",
    "\n",
    "plt.hist(b, bins=10, density=True)\n",
    "plt.show()"
   ]
  },
  {
   "cell_type": "markdown",
   "id": "b5ed91af",
   "metadata": {},
   "source": [
    "No, they don't have the same length.\n",
    ">>>10 11"
   ]
  },
  {
   "cell_type": "code",
   "execution_count": null,
   "id": "5f52a85f",
   "metadata": {},
   "outputs": [],
   "source": [
    "import numpy as np\n",
    "import networkx as nx\n",
    "import matplotlib.pyplot as plt\n",
    "import random as rd\n",
    "\n",
    "nums= []\n",
    "size= 5000\n",
    "mu = 2\n",
    "sigma = 0.125\n",
    "\n",
    "b = np.random.normal(mu, sigma, size)\n",
    "\n",
    "hist, bin_edges = np.histogram(nums, bins=10)\n",
    "print(len(hist), len(bin_edges))"
   ]
  },
  {
   "cell_type": "markdown",
   "id": "fb6705c5",
   "metadata": {},
   "source": [
    "Then we use matplotlib.pyplot.plot to plot the binned data. You will have to deal with the fact that the counts- and bin-arrays have different lengths. Explain how you deal with this problem and why.\n",
    "\n",
    "\n",
    "\n",
    "\n",
    "The difference comes from the way histogram returns two arrays: counts (length x) and bin_edges (length x+1). To use plt.plot(), I converted edges to bin centers, which has the length x that mathes counts.\n"
   ]
  },
  {
   "cell_type": "code",
   "execution_count": null,
   "id": "b2342e50",
   "metadata": {},
   "outputs": [],
   "source": [
    "import numpy as np\n",
    "import networkx as nx\n",
    "import matplotlib.pyplot as plt\n",
    "import random as rd\n",
    "\n",
    "\n",
    "size= 5000\n",
    "mu = 2\n",
    "sigma = 0.125\n",
    "\n",
    "b = np.random.normal(mu, sigma, size)\n",
    "\n",
    "counts, bin_edges = np.histogram(b, bins=10, density=True)\n",
    "\n",
    "bin_centers = 0.5 * (bin_edges[1:] + bin_edges[:-1])\n",
    "plt.plot(bin_centers, counts, '-o')\n",
    "\n",
    "plt.xlabel('Value')\n",
    "plt.ylabel('Density')\n",
    "plt.show()\n"
   ]
  },
  {
   "cell_type": "markdown",
   "id": "f0a1f9fd",
   "metadata": {},
   "source": [
    "Binning integers\n",
    "\n",
    "But binning real numbers into a fixed number of bins is easy when numpy.histogram does all the work and finds the right bin boundaries for you. Now we'll generate a bunch of integers and set the bin boundaries manually. This time, let's grab data from a Poisson distribution. As it turns out numpy also has some convenient random number generators. Use numpy.random.poisson to generate 5000 numbers drawn from a Poisson distribution characterized by lambda = 10. Find the maximum and minimum value of your 5000 random numbers."
   ]
  },
  {
   "cell_type": "code",
   "execution_count": null,
   "id": "94c949f2",
   "metadata": {},
   "outputs": [],
   "source": [
    "import numpy as np\n",
    "import matplotlib.pyplot as plt\n",
    "import random as rd\n",
    "\n",
    "\n",
    "size= 5000\n",
    "la = 10\n",
    "\n",
    "\n",
    "c = np.random.poisson(la, size)\n",
    "counts, bin_edges = np.histogram(c, bins=10, density=True)\n",
    "bin_centers = 0.5 * (bin_edges[1:] + bin_edges[:-1])\n",
    "\n",
    "c_min =c.min()\n",
    "c_max = c.max()\n",
    "\n",
    "print(f\"Minimum value: {c_min}, Maximum value: {c_max}\")\n",
    "bin_parameters = np.arange(c_min, c_max + 2)\n",
    "\n",
    "plt.plot(bin_centers, counts, drawstyle='steps-mid')\n",
    "plt.title('Poisson Distribution (λ=10)')\n",
    "\n",
    "plt.xlabel('Value')\n",
    "plt.ylabel('Density')\n",
    "plt.show()"
   ]
  },
  {
   "cell_type": "markdown",
   "id": "11832b15",
   "metadata": {},
   "source": [
    "Instead of simply specifying the number of bins for numpy.histogram, let's specify the bins we want using a vector. Create a vector \n",
    " that results in a binning that puts each integer value in its own bin and where the first bin contains the minimum number you found above, and the last bin contains the maximum number. Use the vector by setting numpy.histogram's bin parameter as bin =  \n",
    ". What is the sum over bin counts? Explain how the binning-vectors first and last element relates to the min and max from the Poisson distribution.\n",
    "\n",
    "The sum over bins=5000\n"
   ]
  },
  {
   "cell_type": "code",
   "execution_count": 22,
   "id": "0d751801",
   "metadata": {},
   "outputs": [
    {
     "name": "stdout",
     "output_type": "stream",
     "text": [
      "Minimum value: 0, Maximum value: 24\n",
      "sum counts = 5000 length: 5000\n"
     ]
    },
    {
     "data": {
      "image/png": "[encoded data removed]",
      "text/plain": [
       "<Figure size 640x480 with 1 Axes>"
      ]
     },
     "metadata": {},
     "output_type": "display_data"
    }
   ],
   "source": [
    "import numpy as np\n",
    "import matplotlib.pyplot as plt\n",
    "import random as rd\n",
    "\n",
    "size= 5000\n",
    "la = 10\n",
    "\n",
    "c = np.random.poisson(la, size)\n",
    "c_min =c.min()\n",
    "c_max = c.max()\n",
    "\n",
    "v = np.arange(c_min -0.5, c_max + 1.5, 1)\n",
    "\n",
    "print(f\"Minimum value: {c_min}, Maximum value: {c_max}\")\n",
    "\n",
    "counts, bin_edges = np.histogram(c, bins=v, density=False)\n",
    "\n",
    "print(f\"sum counts =\", counts.sum(), \"length:\", len(c))\n",
    "\n",
    "bin_centers = 0.5 * (bin_edges[1:] + bin_edges[:-1])\n",
    "\n",
    "plt.bar(bin_centers, counts, width=1, align='center')\n",
    "\n",
    "\n",
    "plt.title('Poisson Distribution')\n",
    "\n",
    "plt.xlabel('Value')\n",
    "plt.ylabel('Density')\n",
    "plt.show()"
   ]
  },
  {
   "cell_type": "markdown",
   "id": "c24689e3",
   "metadata": {},
   "source": [
    "Binning and plotting degree distributions.\n",
    "Let's generate the Erdös-Renyi (ER) network which has a degree distribution that matches the Poisson distribution above. First we have to figure out which values the ER parameters (N and p) should assume....\n"
   ]
  },
  {
   "cell_type": "code",
   "execution_count": null,
   "id": "cfa7f23b",
   "metadata": {},
   "outputs": [
    {
     "name": "stdout",
     "output_type": "stream",
     "text": [
      "Average degree: 10.0888\n"
     ]
    }
   ],
   "source": [
    "import numpy as np\n",
    "import matplotlib.pyplot as plt\n",
    "import networkx as nx\n",
    "\n",
    "\n",
    "N = 5000\n",
    "kbar = 10\n",
    "p = kbar / (N - 1)\n",
    "\n",
    "G = nx.gnp_random_graph(N, p, seed=0)\n",
    "\n",
    "avg_degree = sum(d for n, d in G.degree()) / N\n",
    "print(f\"Average degree: {avg_degree}\")\n",
    "\n",
    "deg = [d for _, d in G.degree()]\n",
    "bins = np.arange(min(deg)-0.5, max(deg)+1.5, 1)\n",
    "\n",
    "plt.hist(deg, bins=bins, density=True, alpha=0.7)\n",
    "\n",
    "plt.xlabel(\"k (degree)\")\n",
    "plt.ylabel(\"P(k) (probability)\")\n",
    "plt.title(\"Degree Distribution of Erdős-Rényi Graph\")\n",
    "plt.grid()\n",
    "plt.show()"
   ]
  }
 ],
 "metadata": {
  "kernelspec": {
   "display_name": "Python 3",
   "language": "python",
   "name": "python3"
  },
  "language_info": {
   "codemirror_mode": {
    "name": "ipython",
    "version": 3
   },
   "file_extension": ".py",
   "mimetype": "text/x-python",
   "name": "python",
   "nbconvert_exporter": "python",
   "pygments_lexer": "ipython3",
   "version": "3.13.7"
  }
 },
 "nbformat": 4,
 "nbformat_minor": 5
}
