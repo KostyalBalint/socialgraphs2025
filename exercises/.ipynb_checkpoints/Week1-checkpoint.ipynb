{
 "cells": [
  {
   "cell_type": "markdown",
   "id": "725896d79ad745b5",
   "metadata": {},
   "source": [
    "# Exercises 1"
   ]
  },
  {
   "cell_type": "markdown",
   "id": "592a5ab221a7227",
   "metadata": {},
   "source": [
    "### Explain in your own words: What is the the difference between the html page and the wiki-source"
   ]
  },
  {
   "cell_type": "markdown",
   "id": "fda0e6198adcad84",
   "metadata": {},
   "source": []
  },
  {
   "cell_type": "markdown",
   "id": "6ebd8a329bcf73c",
   "metadata": {},
   "source": [
    "### What are the various parameters you can set for a query of the wikipedia api?"
   ]
  },
  {
   "cell_type": "markdown",
   "id": "d250d68c9d879768",
   "metadata": {},
   "source": []
  },
  {
   "cell_type": "markdown",
   "id": "e34cdb1ef19d5b0e",
   "metadata": {},
   "source": [
    "### Write your own little notebook to download wikipedia pages based on the video above. Download the source for your 4 favorite wikipedia pages"
   ]
  },
  {
   "cell_type": "code",
   "execution_count": 8,
   "id": "3303d783-fa02-4d7c-aa29-8a5b91d80158",
   "metadata": {
    "editable": true,
    "slideshow": {
     "slide_type": ""
    },
    "tags": []
   },
   "outputs": [
    {
     "name": "stdout",
     "output_type": "stream",
     "text": [
      "\n",
      "--- Processing: Artificial Intelligence ---\n",
      "Downloading: Artificial Intelligence\n",
      "Saved: wikipedia_pages/Artificial Intelligence.html\n",
      "\n",
      "--- Processing: Black Holes ---\n",
      "Downloading: Black Holes\n",
      "Saved: wikipedia_pages/Black Holes.html\n",
      "\n",
      "--- Processing: Leonardo da Vinci ---\n",
      "Downloading: Leonardo da Vinci\n",
      "Saved: wikipedia_pages/Leonardo da Vinci.html\n",
      "\n",
      "--- Processing: Ancient Egypt ---\n",
      "Downloading: Ancient Egypt\n",
      "Saved: wikipedia_pages/Ancient Egypt.html\n"
     ]
    }
   ],
   "source": [
    "import requests\n",
    "import os\n",
    "from urllib.parse import quote\n",
    "import time\n",
    "import json\n",
    "\n",
    "class WikipediaDownloader:\n",
    "    def __init__(self):\n",
    "        self.base_url = \"https://en.wikipedia.org/api/rest_v1/page/html/\"\n",
    "        self.session = requests.Session()\n",
    "        self.session.headers.update({\n",
    "            'User-Agent': 'Mozilla/5.0 (Windows NT 10.0; Win64; x64) AppleWebKit/537.36 (KHTML, like Gecko) Chrome/91.0.4472.124 Safari/537.36'\n",
    "        })\n",
    "    \n",
    "    def download_page_html(self, title):\n",
    "        try:\n",
    "            # Clean the title for URL\n",
    "            clean_title = quote(title.replace(' ', '_'))\n",
    "            url = f\"{self.base_url}{clean_title}\"\n",
    "            \n",
    "            print(f\"Downloading: {title}\")\n",
    "            response = self.session.get(url)\n",
    "            response.raise_for_status()\n",
    "            \n",
    "            return response.text\n",
    "        except requests.RequestException as e:\n",
    "            print(f\"Error downloading {title}: {e}\")\n",
    "            return None\n",
    "    \n",
    "    def save_page(self, title, content):\n",
    "        if content is None:\n",
    "            return False\n",
    "        \n",
    "        # Create directory if it doesn't exist\n",
    "        os.makedirs(\"wikipedia_pages\", exist_ok=True)\n",
    "        \n",
    "        # Clean filename\n",
    "        safe_filename = \"\".join(c for c in title if c.isalnum() or c in (' ', '-', '_')).rstrip()\n",
    "        filename = f\"wikipedia_pages/{safe_filename}.html\"\n",
    "        \n",
    "        try:\n",
    "            with open(filename, 'w', encoding='utf-8') as f:\n",
    "                f.write(content)\n",
    "            print(f\"Saved: {filename}\")\n",
    "            return True\n",
    "        except IOError as e:\n",
    "            print(f\"Error saving {title}: {e}\")\n",
    "            return False\n",
    "    \n",
    "    def download_and_save(self, title):\n",
    "        content = self.download_page_html(title)\n",
    "        \n",
    "        if content:\n",
    "            return self.save_page(title, content)\n",
    "        return False\n",
    "\n",
    "downloader = WikipediaDownloader()\n",
    "\n",
    "favorite_pages = [\n",
    "    \"Artificial Intelligence\",\n",
    "    \"Black Holes\",\n",
    "    \"Leonardo da Vinci\", \n",
    "    \"Ancient Egypt\"\n",
    "]\n",
    "\n",
    "for page_title in favorite_pages:\n",
    "    print(f\"\\n--- Processing: {page_title} ---\")\n",
    "    \n",
    "    # Download HTML version\n",
    "    success_html = downloader.download_and_save(page_title)"
   ]
  },
  {
   "cell_type": "markdown",
   "id": "e7eb99106ddb2f61",
   "metadata": {},
   "source": [
    "---\n",
    "# Exercises 2"
   ]
  },
  {
   "cell_type": "markdown",
   "id": "5c304879a59e5c0",
   "metadata": {},
   "source": [
    "### List three different real networks and state the nodes and links for each of them."
   ]
  },
  {
   "cell_type": "markdown",
   "id": "f8cb931460eccb4e",
   "metadata": {},
   "source": [
    "* Facebook connections\n",
    "    * *Nodes*: People\n",
    "    * *Links*: Friendlist\n",
    "* Internet\n",
    "    * *Nodes*: Routers and Switches\n",
    "    * *Links*: Network cable\n",
    "* Something\n",
    "    * *Nodes*: Idk\n",
    "    * *Links*: Idk"
   ]
  },
  {
   "cell_type": "markdown",
   "id": "41ed0ddbfbb9621c",
   "metadata": {},
   "source": [
    "### Tell us of the network you are personally most interested in (a fourth one). Address the following questions:\n",
    "* What are its nodes and links?\n",
    "* How large is it?\n",
    "* Can be mapped out?\n",
    "* Does it evolve over time?\n",
    "* Are there processes occurring ON the network? (information spreading, for example)\n",
    "* Why do you care about it?"
   ]
  },
  {
   "cell_type": "markdown",
   "id": "487dfc9301a51362",
   "metadata": {},
   "source": []
  },
  {
   "cell_type": "markdown",
   "id": "b9bba782b48ffb25",
   "metadata": {},
   "source": [
    "### In your view what would be the area where network science could have the biggest impact in the next decade? Explain your answer - and base it on the text in the book."
   ]
  },
  {
   "cell_type": "markdown",
   "id": "e26dd6fe1df39ba3",
   "metadata": {},
   "source": []
  },
  {
   "cell_type": "markdown",
   "id": "2c1b45f47a5eb0cd",
   "metadata": {},
   "source": [
    "---\n",
    "# Exercises 3\n"
   ]
  },
  {
   "cell_type": "markdown",
   "id": "d92b87edc447f9e0",
   "metadata": {},
   "source": [
    "### Go to the `NetworkX` project's [tutorial page](https://networkx.github.io/documentation/stable/tutorial.html). The goal of this exercise is to create your own Notebook that contains the entire tutorial. You're free to add your own (e.g. shorter) comments in place of the ones in the official tutorial - and change the code to make it your own where ever it makes sense."
   ]
  },
  {
   "cell_type": "markdown",
   "id": "90daba226c84e1a5",
   "metadata": {},
   "source": []
  }
 ],
 "metadata": {
  "kernelspec": {
   "display_name": "Python 3 (ipykernel)",
   "language": "python",
   "name": "python3"
  },
  "language_info": {
   "codemirror_mode": {
    "name": "ipython",
    "version": 3
   },
   "file_extension": ".py",
   "mimetype": "text/x-python",
   "name": "python",
   "nbconvert_exporter": "python",
   "pygments_lexer": "ipython3",
   "version": "3.11.6"
  }
 },
 "nbformat": 4,
 "nbformat_minor": 5
}
