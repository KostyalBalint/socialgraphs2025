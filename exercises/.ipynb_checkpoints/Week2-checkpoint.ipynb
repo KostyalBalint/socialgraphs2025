{
 "cells": [
  {
   "cell_type": "markdown",
   "id": "6b427e6c",
   "metadata": {},
   "source": [
    "Section 2.5 states that real networks are sparse. Can you think of a real network where each node has many connections? Is that network still sparse? If yes, can you explain why?"
   ]
  },
  {
   "cell_type": "markdown",
   "id": "678eb625",
   "metadata": {},
   "source": [
    "Yes, for example social media platforms. There are around 5.4 billion social media users around the world, but the network is still sparse, because an average user has only a few hundred or thousan followers or friends compared to the total pissoble connections."
   ]
  },
  {
   "cell_type": "markdown",
   "id": "b14a8092",
   "metadata": {},
   "source": [
    "Go to NS Section 2.12: Homework, then\n",
    "Write the solution exercise 2.1 (the 'Königsberg Problem') from NS in your notebook."
   ]
  },
  {
   "cell_type": "code",
   "execution_count": null,
   "id": "70636c53",
   "metadata": {
    "vscode": {
     "languageId": "plaintext"
    }
   },
   "outputs": [],
   "source": [
    "import networkx as nx\n",
    "import matplotlib.pyplot as plt\n",
    "\n",
    "G = nx.MultiGraph()\n",
    "G.add_nodes_from([1,2,3,4])\n",
    "\n",
    "G.add_edge(1,2)\n",
    "G.add_edge(1,2)\n",
    "G.add_edge(2,3)\n",
    "G.add_edge(2,3)\n",
    "G.add_edge(1,4)\n",
    "G.add_edge(2,4)\n",
    "G.add_edge(3,4)\n",
    "\n",
    "G.add_weighted_edges_from([(1, 2, 0.125), (1, 2, 0.75)])\n",
    "\n",
    "pos = nx.spring_layout(G)\n",
    "nx.draw(G, pos, with_labels=True, node_color=\"lightblue\", node_size=400, font_size=12)\n",
    "\n",
    "print(G.number_of_nodes())\n",
    "print(G.number_of_edges())\n",
    "plt.show()"
   ]
  }
 ],
 "metadata": {
  "kernelspec": {
   "display_name": "Python 3 (ipykernel)",
   "language": "python",
   "name": "python3"
  },
  "language_info": {
   "name": "python"
  }
 },
 "nbformat": 4,
 "nbformat_minor": 5
}
