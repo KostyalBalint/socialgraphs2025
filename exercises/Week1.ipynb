{
 "cells": [
  {
   "metadata": {},
   "cell_type": "markdown",
   "source": [
    "Explain in your own words: What is the the difference between the html page and the wiki-source?\n",
    "What are the various parameters you can set for a query of the wikipedia api?\n",
    "Write your own little notebook to download wikipedia pages based on the video above. Download the source for your 4 favorite wikipedia pages"
   ],
   "id": "d3f4c0ca20333279"
  },
  {
   "metadata": {},
   "cell_type": "markdown",
   "source": [
    "List three different real networks and state the nodes and links for each of them.\n",
    "Tell us of the network you are personally most interested in (a fourth one). Address the following questions:\n",
    "What are its nodes and links?\n",
    "How large is it?\n",
    "Can be mapped out?\n",
    "Does it evolve over time?\n",
    "Are there processes occurring ON the network? (information spreading, for example)\n",
    "Why do you care about it?\n",
    "In your view what would be the area where network science could have the biggest impact in the next decade? Explain your answer - and base it on the text in the book."
   ],
   "id": "b8edd43849b7cb86"
  }
 ],
 "metadata": {
  "kernelspec": {
   "display_name": "Python 3",
   "language": "python",
   "name": "python3"
  },
  "language_info": {
   "codemirror_mode": {
    "name": "ipython",
    "version": 2
   },
   "file_extension": ".py",
   "mimetype": "text/x-python",
   "name": "python",
   "nbconvert_exporter": "python",
   "pygments_lexer": "ipython2",
   "version": "2.7.6"
  }
 },
 "nbformat": 4,
 "nbformat_minor": 5
}
