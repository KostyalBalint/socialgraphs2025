{
 "cells": [
  {
   "cell_type": "markdown",
   "id": "725896d79ad745b5",
   "metadata": {},
   "source": [
    "---\n",
    "# Exercises 1\n"
   ]
  },
  {
   "cell_type": "markdown",
   "id": "592a5ab221a7227",
   "metadata": {},
   "source": [
    "### Explain in your own words: What is the the difference between the html page and the wiki-source"
   ]
  },
  {
   "cell_type": "markdown",
   "id": "fda0e6198adcad84",
   "metadata": {},
   "source": [
    "alma\n"
   ]
  },
  {
   "cell_type": "markdown",
   "id": "6ebd8a329bcf73c",
   "metadata": {},
   "source": [
    "### What are the various parameters you can set for a query of the wikipedia api?"
   ]
  },
  {
   "cell_type": "markdown",
   "id": "d250d68c9d879768",
   "metadata": {},
   "source": []
  },
  {
   "cell_type": "markdown",
   "id": "e34cdb1ef19d5b0e",
   "metadata": {},
   "source": [
    "### Write your own little notebook to download wikipedia pages based on the video above. Download the source for your 4 favorite wikipedia pages"
   ]
  },
  {
   "cell_type": "markdown",
   "id": "d31330e8c0725ba0",
   "metadata": {},
   "source": []
  },
  {
   "cell_type": "markdown",
   "id": "e7eb99106ddb2f61",
   "metadata": {},
   "source": [
    "---\n",
    "# Exercises 2"
   ]
  },
  {
   "cell_type": "markdown",
   "id": "5c304879a59e5c0",
   "metadata": {},
   "source": [
    "### List three different real networks and state the nodes and links for each of them."
   ]
  },
  {
   "cell_type": "markdown",
   "id": "f8cb931460eccb4e",
   "metadata": {},
   "source": []
  },
  {
   "cell_type": "markdown",
   "id": "41ed0ddbfbb9621c",
   "metadata": {},
   "source": [
    "### Tell us of the network you are personally most interested in (a fourth one). Address the following questions:\n",
    "* What are its nodes and links?\n",
    "* How large is it?\n",
    "* Can be mapped out?\n",
    "* Does it evolve over time?\n",
    "* Are there processes occurring ON the network? (information spreading, for example)\n",
    "* Why do you care about it?"
   ]
  },
  {
   "cell_type": "markdown",
   "id": "487dfc9301a51362",
   "metadata": {},
   "source": []
  },
  {
   "cell_type": "markdown",
   "id": "b9bba782b48ffb25",
   "metadata": {},
   "source": [
    "### In your view what would be the area where network science could have the biggest impact in the next decade? Explain your answer - and base it on the text in the book."
   ]
  },
  {
   "cell_type": "markdown",
   "id": "e26dd6fe1df39ba3",
   "metadata": {},
   "source": []
  },
  {
   "cell_type": "markdown",
   "id": "2c1b45f47a5eb0cd",
   "metadata": {},
   "source": [
    "---\n",
    "# Exercises 3\n"
   ]
  },
  {
   "cell_type": "markdown",
   "id": "d92b87edc447f9e0",
   "metadata": {},
   "source": [
    "### Go to the `NetworkX` project's [tutorial page](https://networkx.github.io/documentation/stable/tutorial.html). The goal of this exercise is to create your own Notebook that contains the entire tutorial. You're free to add your own (e.g. shorter) comments in place of the ones in the official tutorial - and change the code to make it your own where ever it makes sense."
   ]
  },
  {
   "cell_type": "markdown",
   "id": "90daba226c84e1a5",
   "metadata": {},
   "source": []
  }
 ],
 "metadata": {
  "kernelspec": {
   "display_name": "Python 3",
   "language": "python",
   "name": "python3"
  },
  "language_info": {
   "codemirror_mode": {
    "name": "ipython",
    "version": 2
   },
   "file_extension": ".py",
   "mimetype": "text/x-python",
   "name": "python",
   "nbconvert_exporter": "python",
   "pygments_lexer": "ipython2",
   "version": "2.7.6"
  }
 },
 "nbformat": 4,
 "nbformat_minor": 5
}
